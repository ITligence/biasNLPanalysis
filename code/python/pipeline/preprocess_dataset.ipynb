{
 "cells": [
  {
   "cell_type": "markdown",
   "metadata": {},
   "source": [
    "# Preprocess the dataset, make it word-embedding compatible"
   ]
  },
  {
   "cell_type": "code",
   "execution_count": 18,
   "metadata": {},
   "outputs": [],
   "source": [
    "import pandas as pd \n",
    "import matplotlib.pyplot as plt \n",
    "import numpy as np \n",
    "from sklearn.model_selection import train_test_split\n",
    "import os as os\n",
    "import re \n",
    "import csv\n",
    "\n",
    "from transformers import AutoTokenizer, AutoModel\n",
    "import torch\n",
    "import torch.nn.functional as F\n",
    "import time\n",
    "\n",
    "from sklearn.decomposition import PCA\n",
    "from sklearn.model_selection import StratifiedShuffleSplit"
   ]
  },
  {
   "cell_type": "code",
   "execution_count": 4,
   "metadata": {},
   "outputs": [],
   "source": [
    "path = \"/mnt/c/Users/Johan/Documents/ITligence\"  # Replace with your desired path\n",
    "os.chdir(path)"
   ]
  },
  {
   "cell_type": "code",
   "execution_count": 20,
   "metadata": {},
   "outputs": [],
   "source": [
    "def txt_to_csv(input_txt_file, output_csv_file):\n",
    "    # Read the text file\n",
    "    with open(input_txt_file, 'r') as txt_file:\n",
    "        lines = txt_file.readlines()\n",
    "\n",
    "    # Write to the CSV file\n",
    "    with open(output_csv_file, 'w', newline='') as csv_file:\n",
    "        csv_writer = csv.writer(csv_file)\n",
    "        # Write the header\n",
    "        csv_writer.writerow(['label', 'text'])\n",
    "\n",
    "        for line in lines:\n",
    "            line = line.strip()\n",
    "            # Use regex to extract the label (number at the beginning) and the text\n",
    "            match = re.match(r'^(\\d+)\\s+(.*)', line)\n",
    "            if match:\n",
    "                label, text = match.groups()\n",
    "                csv_writer.writerow([label, text])\n",
    "\n",
    "# Usage example\n",
    "input_txt_file = \"data/uncleaned_data/JerryWeiAIData/train_orig.txt\"  # Replace with your input text file path\n",
    "output_csv_file = \"data/uncleaned_data/JerryWeiAIData/train_orig.csv\"  # Replace with your desired output CSV file path\n",
    "\n",
    "txt_to_csv(input_txt_file, output_csv_file)"
   ]
  },
  {
   "cell_type": "code",
   "execution_count": 22,
   "metadata": {},
   "outputs": [],
   "source": [
    "JerryWeiData = pd.read_csv(\"data/uncleaned_data/JerryWeiAIData/train_orig.csv\")"
   ]
  },
  {
   "cell_type": "markdown",
   "metadata": {},
   "source": [
    "Pipeline to extract embeddings"
   ]
  },
  {
   "cell_type": "code",
   "execution_count": 32,
   "metadata": {},
   "outputs": [
    {
     "name": "stdout",
     "output_type": "stream",
     "text": [
      "Generated Embeddings. Time Taken: 0.8318467140197754 Seconds.\n"
     ]
    }
   ],
   "source": [
    "# Mean Pooling - Take attention mask into account for correct averaging\n",
    "def mean_pooling(model_output, attention_mask):\n",
    "    token_embeddings = model_output.last_hidden_state  # Last hidden state of model_output contains all token embeddings\n",
    "    input_mask_expanded = attention_mask.unsqueeze(-1).expand(token_embeddings.size()).float()\n",
    "    return torch.sum(token_embeddings * input_mask_expanded, 1) / torch.clamp(input_mask_expanded.sum(1), min=1e-9)\n",
    "\n",
    "# Function to get embeddings\n",
    "def get_embeddings(sentences, model, tokenizer, batch_size, embedding_type='sentence'):\n",
    "    sentence_embeddings = []\n",
    "    token_embeddings = []\n",
    "    \n",
    "    start_time = time.time()\n",
    "    \n",
    "    # Determine the maximum sequence length for padding\n",
    "    encoded_input = tokenizer(sentences, padding=True, truncation=True, return_tensors='pt')\n",
    "    max_seq_length = encoded_input['input_ids'].shape[1]\n",
    "\n",
    "    for i in range(0, len(sentences), batch_size):\n",
    "        batch_sentences = sentences[i:i+batch_size]\n",
    "        encoded_input = tokenizer(batch_sentences, padding=True, truncation=True, return_tensors='pt', max_length=max_seq_length)\n",
    "        \n",
    "        with torch.no_grad():\n",
    "            model_output = model(**encoded_input)\n",
    "        \n",
    "        if embedding_type in ['sentence', 'both']:\n",
    "            batch_sentence_embeddings = mean_pooling(model_output, encoded_input['attention_mask'])\n",
    "            sentence_embeddings.append(batch_sentence_embeddings)\n",
    "        \n",
    "        if embedding_type in ['token', 'both']:\n",
    "            batch_token_embeddings = model_output.last_hidden_state\n",
    "            token_embeddings.append(batch_token_embeddings)\n",
    "    \n",
    "    end_time = time.time()\n",
    "    \n",
    "    # Concatenate embeddings from different batches\n",
    "    if embedding_type in ['sentence', 'both']:\n",
    "        sentence_embeddings = torch.cat(sentence_embeddings, dim=0)\n",
    "        # Normalize embeddings\n",
    "        sentence_embeddings = F.normalize(sentence_embeddings, p=2, dim=1)\n",
    "    \n",
    "    if embedding_type in ['token', 'both']:\n",
    "        # Pad token embeddings to the maximum sequence length\n",
    "        for i in range(len(token_embeddings)):\n",
    "            pad_size = max_seq_length - token_embeddings[i].shape[1]\n",
    "            token_embeddings[i] = F.pad(token_embeddings[i], (0, 0, 0, pad_size), 'constant', 0)\n",
    "        token_embeddings = torch.cat(token_embeddings, dim=0)\n",
    "    \n",
    "    time_taken = abs(start_time - end_time)\n",
    "    print(f\"Generated Embeddings. Time Taken: {time_taken} Seconds.\")\n",
    "    \n",
    "    if embedding_type == 'sentence':\n",
    "        return sentence_embeddings\n",
    "    elif embedding_type == 'token':\n",
    "        return token_embeddings\n",
    "    elif embedding_type == 'both':\n",
    "        return sentence_embeddings, token_embeddings\n",
    "    \n",
    "# Usage\n",
    "# Sentences we want embeddings for\n",
    "sentences = list(JerryWeiData[\"text\"][1:100])\n",
    "\n",
    "# Load model and tokenizer from HuggingFace Hub\n",
    "tokenizer = AutoTokenizer.from_pretrained('sentence-transformers/paraphrase-MiniLM-L6-v2')\n",
    "model = AutoModel.from_pretrained('sentence-transformers/paraphrase-MiniLM-L6-v2')\n",
    "\n",
    "# Set batch size\n",
    "batch_size = 8  # Adjust as needed\n",
    "\n",
    "# Choose the type of embeddings: 'sentence', 'token', 'both'\n",
    "embedding_type = 'both'\n",
    "\n",
    "# Get embeddings\n",
    "sentence, tokens = get_embeddings(sentences, model, tokenizer, batch_size, embedding_type)"
   ]
  },
  {
   "cell_type": "code",
   "execution_count": 38,
   "metadata": {},
   "outputs": [],
   "source": [
    "np_embedding = np.array(tokens)\n",
    "#pd_embedding = pd.DataFrame(np_embedding)"
   ]
  },
  {
   "cell_type": "code",
   "execution_count": 39,
   "metadata": {},
   "outputs": [],
   "source": [
    "#pd_embedding.to_csv(\"BiasData_UnmodifiedEmbedding_paraphrase-MiniLM-L6-v2.csv\")\n",
    "np.save(\"npy_BiasData_UnmodifiedTokenEmbedding_paraphrase-MiniLM-L6-v2.npy\", np_embedding)"
   ]
  },
  {
   "cell_type": "code",
   "execution_count": 42,
   "metadata": {},
   "outputs": [],
   "source": [
    "np.save(\"npy_BiasData_1-100UnmodifiedSentenceEmbedding_paraphrase-MiniLM-L6-v2.npy\", sentence)"
   ]
  },
  {
   "cell_type": "markdown",
   "metadata": {},
   "source": [
    "# Load Data & Create Create Dataset"
   ]
  },
  {
   "cell_type": "code",
   "execution_count": 11,
   "metadata": {},
   "outputs": [],
   "source": [
    "np_embedding = np.load(\"data/uncleaned_data/npy_BiasData_UnmodifiedEmbedding_paraphrase-MiniLM-L6-v2.npy\")\n",
    "csv_embedding = pd.read_csv(\"data/uncleaned_data/csv_BiasData_UnmodifiedEmbedding_paraphrase-MiniLM-L6-v2.csv\")\n",
    "JerryWeiData = pd.read_csv(\"data/uncleaned_data/JerryWeiAIData/train_orig.csv\")\n",
    "merged_embedding = pd.read_csv(\"data/cleaned_data/csv_MergedDataset_paraphrase-MiniLM-L6-v2.csv\")"
   ]
  },
  {
   "cell_type": "code",
   "execution_count": 7,
   "metadata": {},
   "outputs": [
    {
     "ename": "NameError",
     "evalue": "name 'JerryWeiData' is not defined",
     "output_type": "error",
     "traceback": [
      "\u001b[0;31m---------------------------------------------------------------------------\u001b[0m",
      "\u001b[0;31mNameError\u001b[0m                                 Traceback (most recent call last)",
      "Cell \u001b[0;32mIn[7], line 1\u001b[0m\n\u001b[0;32m----> 1\u001b[0m merged_dataset \u001b[38;5;241m=\u001b[39m pd\u001b[38;5;241m.\u001b[39mconcat([\u001b[43mJerryWeiData\u001b[49m, csv_embedding], axis\u001b[38;5;241m=\u001b[39m\u001b[38;5;241m1\u001b[39m)\n\u001b[1;32m      2\u001b[0m merged_dataset \u001b[38;5;241m=\u001b[39m merged_dataset\u001b[38;5;241m.\u001b[39mdrop(\u001b[38;5;124m\"\u001b[39m\u001b[38;5;124mtext\u001b[39m\u001b[38;5;124m\"\u001b[39m, axis \u001b[38;5;241m=\u001b[39m \u001b[38;5;241m1\u001b[39m)\n\u001b[1;32m      3\u001b[0m merged_dataset \u001b[38;5;241m=\u001b[39m merged_dataset\u001b[38;5;241m.\u001b[39mdrop(\u001b[38;5;124m\"\u001b[39m\u001b[38;5;124mUnnamed: 0\u001b[39m\u001b[38;5;124m\"\u001b[39m, axis \u001b[38;5;241m=\u001b[39m \u001b[38;5;241m1\u001b[39m)\n",
      "\u001b[0;31mNameError\u001b[0m: name 'JerryWeiData' is not defined"
     ]
    }
   ],
   "source": [
    "merged_dataset = pd.concat([JerryWeiData, csv_embedding], axis=1)\n",
    "merged_dataset = merged_dataset.drop(\"text\", axis = 1)\n",
    "merged_dataset = merged_dataset.drop(\"Unnamed: 0\", axis = 1)\n",
    "merged_dataset.to_csv(\"csv_MergedDataset_paraphrase-MiniLM-L6-v2.csv\")"
   ]
  },
  {
   "cell_type": "markdown",
   "metadata": {},
   "source": [
    "# Reduce Dataset Size to 1000 points"
   ]
  },
  {
   "cell_type": "code",
   "execution_count": 15,
   "metadata": {},
   "outputs": [],
   "source": [
    "# load embeddings & labels \n",
    "np_embedding = np.load(\"data/uncleaned_data/npy_BiasData_UnmodifiedEmbedding_paraphrase-MiniLM-L6-v2.npy\")\n",
    "labels_csv = pd.read_csv(\"data/cleaned_data/csv_MergedDataset_paraphrase-MiniLM-L6-v2.csv\")"
   ]
  },
  {
   "cell_type": "code",
   "execution_count": 17,
   "metadata": {},
   "outputs": [
    {
     "data": {
      "text/plain": [
       "(253781,)"
      ]
     },
     "execution_count": 17,
     "metadata": {},
     "output_type": "execute_result"
    }
   ],
   "source": [
    "labels_array = np.array(labels_csv[\"label\"])\n",
    "labels_array.shape"
   ]
  },
  {
   "cell_type": "markdown",
   "metadata": {},
   "source": [
    "Create Reduced Dataset for Smooth Training"
   ]
  },
  {
   "cell_type": "code",
   "execution_count": 39,
   "metadata": {},
   "outputs": [
    {
     "name": "stdout",
     "output_type": "stream",
     "text": [
      "Reduced embeddings shape: (1100, 384)\n",
      "Reduced labels distribution: [100 100 100 100 100 100 100 100 100 100 100]\n"
     ]
    }
   ],
   "source": [
    "# Ensure the embeddings and labels have the same number of samples\n",
    "assert np_embedding.shape[0] == labels_array.shape[0], \"Embeddings and labels must have the same number of samples\"\n",
    "\n",
    "# Define the desired number of samples per class\n",
    "desired_samples_per_class = 100\n",
    "\n",
    "# Get unique classes\n",
    "unique_classes = np.unique(labels_array)\n",
    "\n",
    "# Initialize lists to hold the reduced embeddings and labels\n",
    "reduced_embeddings_list = []\n",
    "reduced_labels_list = []\n",
    "\n",
    "# Iterate over each class to sample 100 examples\n",
    "for cls in unique_classes:\n",
    "    # Get the indices of all samples for the current class\n",
    "    cls_indices = np.where(labels_array == cls)[0]\n",
    "    cls_embeddings = np_embedding[cls_indices]\n",
    "    cls_labels = labels_array[cls_indices]\n",
    "    \n",
    "    # Perform stratified sampling within the current class\n",
    "    sss = StratifiedShuffleSplit(n_splits=1, train_size=desired_samples_per_class, random_state=42)\n",
    "    train_index, _ = next(sss.split(cls_embeddings, cls_labels))\n",
    "    \n",
    "    # Select the reduced embeddings and labels based on the indices\n",
    "    reduced_embeddings_list.append(cls_embeddings[train_index])\n",
    "    reduced_labels_list.append(cls_labels[train_index])\n",
    "\n",
    "# Concatenate the lists to form the final reduced arrays\n",
    "reduced_embeddings = np.concatenate(reduced_embeddings_list)\n",
    "reduced_labels = np.concatenate(reduced_labels_list)\n",
    "\n",
    "# Ensure the reduced data has the expected number of samples (100 samples per class)\n",
    "assert len(reduced_labels) == desired_samples_per_class * len(unique_classes)\n",
    "assert all(np.bincount(reduced_labels) == desired_samples_per_class)\n",
    "\n",
    "print(f\"Reduced embeddings shape: {reduced_embeddings.shape}\")\n",
    "print(f\"Reduced labels distribution: {np.bincount(reduced_labels)}\")\n"
   ]
  },
  {
   "cell_type": "code",
   "execution_count": 44,
   "metadata": {},
   "outputs": [],
   "source": [
    "np.save(\"data/cleaned_data/npy_BiasData_100-per-class-SentenceEmbedding_paraphrase-MiniLM-L6-v2.npy\", reduced_embeddings)\n",
    "np.save(\"data/cleaned_data/npy_BiasData_100-per-class-labels_paraphrase-MiniLM-L6-v2.npy\", reduced_labels)"
   ]
  }
 ],
 "metadata": {
  "kernelspec": {
   "display_name": "base",
   "language": "python",
   "name": "python3"
  },
  "language_info": {
   "codemirror_mode": {
    "name": "ipython",
    "version": 3
   },
   "file_extension": ".py",
   "mimetype": "text/x-python",
   "name": "python",
   "nbconvert_exporter": "python",
   "pygments_lexer": "ipython3",
   "version": "3.10.9"
  }
 },
 "nbformat": 4,
 "nbformat_minor": 2
}
